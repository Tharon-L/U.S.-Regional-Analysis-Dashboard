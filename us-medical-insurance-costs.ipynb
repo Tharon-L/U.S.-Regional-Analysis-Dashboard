{
 "cells": [
  {
   "cell_type": "markdown",
   "metadata": {},
   "source": [
    "# U.S. Medical Insurance Costs : Regional Insurance Analysis Dashboard"
   ]
  },
  {
   "cell_type": "code",
   "execution_count": 29,
   "metadata": {},
   "outputs": [
    {
     "name": "stdout",
     "output_type": "stream",
     "text": [
      "Average charges by region:  {'southwest': 12346.93737729231, 'southeast': 14735.411437609895, 'northwest': 12417.575373969228, 'northeast': 13406.3845163858}\n"
     ]
    }
   ],
   "source": [
    "import csv\n",
    "\n",
    "region_counts = {}\n",
    "\n",
    "with open(\"insurance.csv\") as insurance_csv_file:\n",
    "    table_to_analyse = csv.DictReader(insurance_csv_file)\n",
    "    data = list(table_to_analyse)\n",
    "\n",
    "\n",
    "def avg_charges_by_region(data):\n",
    "    counts_by_region = {}\n",
    "    total_charges_by_region = {}\n",
    "\n",
    "    \n",
    "    for person in data:\n",
    "        region = person['region']\n",
    "        charges = float(person['charges'])\n",
    "        \n",
    "        if region in total_charges_by_region:\n",
    "            total_charges_by_region[region] += charges\n",
    "        else :\n",
    "            total_charges_by_region[region] = charges\n",
    "\n",
    "        if region in counts_by_region:\n",
    "            counts_by_region[region] += 1\n",
    "        else:\n",
    "            counts_by_region[region] = 1\n",
    "\n",
    "    avg_by_region = {}\n",
    "    for region in total_charges_by_region:\n",
    "        avg_by_region[region] = total_charges_by_region[region] / counts_by_region[region]\n",
    "    return avg_by_region\n",
    "\n",
    "average_charges = avg_charges_by_region(data)\n",
    "print(\"Average charges by region: \", average_charges)\n",
    "        "
   ]
  },
  {
   "cell_type": "code",
   "execution_count": 7,
   "metadata": {},
   "outputs": [
    {
     "name": "stdout",
     "output_type": "stream",
     "text": [
      "Analysis complete and files exported for Power BI\n"
     ]
    }
   ],
   "source": [
    "import pandas as pd\n",
    "\n",
    "# Convert CSV to pandas DataFrame for easier analysis\n",
    "with open(\"insurance.csv\") as insurance_csv_file:\n",
    "    data = pd.read_csv(insurance_csv_file)\n",
    "\n",
    "# Calculate key metrics by region\n",
    "def regional_analysis(data):\n",
    "    # Group by region and calculate statistics\n",
    "    regional_stats = data.groupby('region').agg({\n",
    "        'charges': ['mean', 'median', 'std', 'min', 'max', 'count'],\n",
    "        'age': ['mean', 'min', 'max'],\n",
    "        'bmi': ['mean', 'median'],\n",
    "        'smoker': lambda x: (x == 'yes').mean() * 100,  # Percentage of smokers\n",
    "        'children': ['mean', 'sum']\n",
    "    })\n",
    "    \n",
    "    # Flatten the column hierarchy\n",
    "    regional_stats.columns = ['_'.join(col).strip() for col in regional_stats.columns.values]\n",
    "    \n",
    "    # Additional calculations\n",
    "    # Calculate charge per BMI point by region - modified to avoid deprecation warning\n",
    "    charge_per_bmi = data.groupby('region').apply(\n",
    "        lambda x: (x['charges'] / x['bmi']).mean(), include_groups=False\n",
    "    ).reset_index(name='charge_per_bmi_point')\n",
    "    \n",
    "    return regional_stats, charge_per_bmi\n",
    "\n",
    "# Calculate regional statistics\n",
    "regional_stats, charge_per_bmi = regional_analysis(data)\n",
    "\n",
    "# Export results to CSV for Power BI import\n",
    "regional_stats.reset_index().to_csv('regional_stats.csv', index=False)\n",
    "charge_per_bmi.to_csv('charge_per_bmi.csv', index=False)\n",
    "\n",
    "# Also export the full dataset for Power BI\n",
    "data.to_csv('insurance_clean.csv', index=False)\n",
    "\n",
    "print(\"Analysis complete and files exported for Power BI\")"
   ]
  },
  {
   "cell_type": "code",
   "execution_count": 9,
   "metadata": {},
   "outputs": [],
   "source": [
    "# Create age group categories for better analysis\n",
    "data['age_group'] = pd.cut(data['age'], bins=[0, 18, 30, 45, 65, 100], \n",
    "                          labels=['0-18', '19-30', '31-45', '46-65', '65+'])\n",
    "\n",
    "# Regional analysis by age group - add observed=False to maintain current behavior\n",
    "regional_age_stats = data.groupby(['region', 'age_group'], observed=False).agg({\n",
    "    'charges': 'mean',\n",
    "    'bmi': 'mean',\n",
    "    'smoker': lambda x: (x == 'yes').mean() * 100\n",
    "}).reset_index()\n",
    "\n",
    "regional_age_stats.to_csv('regional_age_stats.csv', index=False)\n",
    "\n",
    "# Regional analysis by smoker status\n",
    "smoker_stats = data.groupby(['region', 'smoker']).agg({\n",
    "    'charges': ['mean', 'count'],\n",
    "    'bmi': 'mean',\n",
    "    'age': 'mean'\n",
    "})\n",
    "\n",
    "smoker_stats.columns = ['_'.join(col).strip() for col in smoker_stats.columns.values]\n",
    "smoker_stats.reset_index().to_csv('regional_smoker_stats.csv', index=False)"
   ]
  }
 ],
 "metadata": {
  "kernelspec": {
   "display_name": "Python 3 (ipykernel)",
   "language": "python",
   "name": "python3"
  },
  "language_info": {
   "codemirror_mode": {
    "name": "ipython",
    "version": 3
   },
   "file_extension": ".py",
   "mimetype": "text/x-python",
   "name": "python",
   "nbconvert_exporter": "python",
   "pygments_lexer": "ipython3",
   "version": "3.12.9"
  }
 },
 "nbformat": 4,
 "nbformat_minor": 4
}
